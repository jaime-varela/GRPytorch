{
 "cells": [
  {
   "cell_type": "code",
   "execution_count": 1,
   "metadata": {},
   "outputs": [],
   "source": [
    "import torch\n",
    "from torch.autograd import grad\n",
    "import numpy as np\n",
    "Mass = 1000\n",
    "\n",
    "coordinates = [1000.0,3*Mass,np.pi/2,0.0] #t,r,theta,phi\n",
    "\n",
    "coords = torch.tensor(coordinates,requires_grad=True)\n",
    "\n"
   ]
  },
  {
   "cell_type": "code",
   "execution_count": 2,
   "metadata": {},
   "outputs": [],
   "source": [
    "from GRPytorch_models import SpaceTimeMetricModule\n",
    "from GRPytorch_metrics import schwarchild_metric\n",
    "\n",
    "schwar_metric_function = lambda x: schwarchild_metric(x,Mass=Mass)\n",
    "schwar_module = SpaceTimeMetricModule(schwar_metric_function)"
   ]
  },
  {
   "cell_type": "code",
   "execution_count": 3,
   "metadata": {},
   "outputs": [],
   "source": [
    "from GRPytorch_models import ChristoffelSymbols\n",
    "\n",
    "# create a christoffel module\n",
    "christoffel = ChristoffelSymbols(schwar_module)"
   ]
  },
  {
   "cell_type": "code",
   "execution_count": 6,
   "metadata": {},
   "outputs": [],
   "source": [
    "# evaluate on some coordinates\n",
    "christoffel_eval = christoffel(torch.tensor([coordinates,coordinates],requires_grad=True))"
   ]
  },
  {
   "cell_type": "code",
   "execution_count": 7,
   "metadata": {},
   "outputs": [
    {
     "data": {
      "text/plain": [
       "tensor([[ 3.7037e-05,  0.0000e+00,  0.0000e+00,  0.0000e+00],\n",
       "        [ 0.0000e+00, -3.3333e-04,  0.0000e+00,  0.0000e+00],\n",
       "        [ 0.0000e+00,  0.0000e+00, -1.0000e+03,  0.0000e+00],\n",
       "        [ 0.0000e+00,  0.0000e+00,  0.0000e+00, -1.0000e+03]],\n",
       "       grad_fn=<SliceBackward0>)"
      ]
     },
     "execution_count": 7,
     "metadata": {},
     "output_type": "execute_result"
    }
   ],
   "source": [
    "\n",
    "# \\Gamma^{1}_{i,j} for the first coordinate\n",
    "christoffel_eval[0,1,:,:]"
   ]
  },
  {
   "cell_type": "code",
   "execution_count": 4,
   "metadata": {},
   "outputs": [
    {
     "data": {
      "text/plain": [
       "(3.703703703703704e-05, -0.0003333333333333333, -1000.0000000000001)"
      ]
     },
     "execution_count": 4,
     "metadata": {},
     "output_type": "execute_result"
    }
   ],
   "source": [
    "# Compare with known analytic values\n",
    "r = 3*Mass\n",
    "# symbols taken from pdf source\n",
    "(Mass/(r*r)) * (1-(2*Mass/r)),-(Mass/(r*r)) / (1-(2*Mass/r)), -r*(1-(2*Mass/r))"
   ]
  },
  {
   "cell_type": "code",
   "execution_count": 5,
   "metadata": {},
   "outputs": [],
   "source": [
    "from GRPytorch_models import RiemannTensor\n",
    "\n",
    "# Create riemann tensor module\n",
    "riemann_tensor = RiemannTensor(schwar_module)"
   ]
  },
  {
   "cell_type": "code",
   "execution_count": 7,
   "metadata": {},
   "outputs": [],
   "source": [
    "# evaluate for two coordinates\n",
    "coord_batch = torch.tensor([coordinates,coordinates],requires_grad=True)\n",
    "\n",
    "rieman_for_coord = riemann_tensor(coord_batch)"
   ]
  },
  {
   "cell_type": "code",
   "execution_count": 8,
   "metadata": {},
   "outputs": [
    {
     "data": {
      "text/plain": [
       "tensor(2.2222e-07, grad_fn=<SelectBackward0>)"
      ]
     },
     "execution_count": 8,
     "metadata": {},
     "output_type": "execute_result"
    }
   ],
   "source": [
    "# R^{0}_{1,0,1} for the first coordinate in the coordinate batch\n",
    "rieman_for_coord[0,0,1,0,1]\n"
   ]
  },
  {
   "cell_type": "code",
   "execution_count": 10,
   "metadata": {},
   "outputs": [],
   "source": [
    "from GRPytorch_models import RiemannTensor\n",
    "from GRPytorch_models import RicciTensor\n",
    "\n",
    "# create a ricci tensor module\n",
    "ricci_tensor = RicciTensor(schwar_module)"
   ]
  },
  {
   "cell_type": "code",
   "execution_count": 11,
   "metadata": {},
   "outputs": [],
   "source": [
    "\n",
    "# evaluate the ricci tensor on 1000 coordinate points at once\n",
    "coord_batch_10 = torch.tensor([coordinates] * 1000,requires_grad=True)\n",
    "ricci_val = ricci_tensor(coord_batch_10)"
   ]
  },
  {
   "cell_type": "code",
   "execution_count": 12,
   "metadata": {},
   "outputs": [
    {
     "data": {
      "text/plain": [
       "tensor([[-1.7764e-15,  0.0000e+00,  0.0000e+00,  0.0000e+00],\n",
       "        [ 0.0000e+00,  2.8422e-14,  0.0000e+00,  0.0000e+00],\n",
       "        [ 0.0000e+00,  0.0000e+00,  5.9605e-08,  0.0000e+00],\n",
       "        [ 0.0000e+00,  0.0000e+00,  0.0000e+00,  5.9605e-08]],\n",
       "       grad_fn=<SliceBackward0>)"
      ]
     },
     "execution_count": 12,
     "metadata": {},
     "output_type": "execute_result"
    }
   ],
   "source": [
    "ricci_val[0,:,:]"
   ]
  },
  {
   "cell_type": "code",
   "execution_count": 25,
   "metadata": {},
   "outputs": [
    {
     "data": {
      "text/plain": [
       "tensor(2.8422e-14, grad_fn=<AddBackward0>)"
      ]
     },
     "execution_count": 25,
     "metadata": {},
     "output_type": "execute_result"
    }
   ],
   "source": [
    "rieman_for_coord[0,0,1,0,1] + rieman_for_coord[0,1,1,1,1] + rieman_for_coord[0,2,1,2,1] + rieman_for_coord[0,3,1,3,1]"
   ]
  },
  {
   "cell_type": "code",
   "execution_count": 13,
   "metadata": {},
   "outputs": [],
   "source": [
    "from GRPytorch_models import EinsteinTensor\n",
    "\n",
    "# Einstein module\n",
    "eins_tensor = EinsteinTensor(schwar_module)"
   ]
  },
  {
   "cell_type": "code",
   "execution_count": 14,
   "metadata": {},
   "outputs": [],
   "source": [
    "\n",
    "eins_val = eins_tensor(coord_batch)"
   ]
  },
  {
   "cell_type": "code",
   "execution_count": 15,
   "metadata": {},
   "outputs": [
    {
     "data": {
      "text/plain": [
       "tensor([[ 2.8984e-15,  0.0000e+00,  0.0000e+00,  0.0000e+00],\n",
       "        [ 0.0000e+00, -1.3651e-14,  0.0000e+00,  0.0000e+00],\n",
       "        [ 0.0000e+00,  0.0000e+00, -6.6613e-08,  0.0000e+00],\n",
       "        [ 0.0000e+00,  0.0000e+00,  0.0000e+00, -6.6613e-08]],\n",
       "       grad_fn=<SliceBackward0>)"
      ]
     },
     "execution_count": 15,
     "metadata": {},
     "output_type": "execute_result"
    }
   ],
   "source": [
    "# Display einstein tensor for first coordinate\n",
    "eins_val[0,:,:]"
   ]
  },
  {
   "cell_type": "code",
   "execution_count": null,
   "metadata": {},
   "outputs": [],
   "source": []
  },
  {
   "cell_type": "markdown",
   "metadata": {},
   "source": [
    "Note I have not figure out a way to remove the numerical round off error."
   ]
  }
 ],
 "metadata": {
  "kernelspec": {
   "display_name": "GRPytorch",
   "language": "python",
   "name": "python3"
  },
  "language_info": {
   "codemirror_mode": {
    "name": "ipython",
    "version": 3
   },
   "file_extension": ".py",
   "mimetype": "text/x-python",
   "name": "python",
   "nbconvert_exporter": "python",
   "pygments_lexer": "ipython3",
   "version": "3.10.12"
  }
 },
 "nbformat": 4,
 "nbformat_minor": 2
}
